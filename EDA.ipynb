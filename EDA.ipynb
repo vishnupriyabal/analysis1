{
 "cells": [
  {
   "cell_type": "markdown",
   "id": "5333b529",
   "metadata": {},
   "source": [
    "# SCMS_DELIVERY_HISTORY_DATASET"
   ]
  },
  {
   "cell_type": "markdown",
   "id": "1e9e5121",
   "metadata": {},
   "source": [
    "Data Description: This data set provodes supply chain health commodity and pricing data.In addition,this data set provides the commodity pricing and associated supply chain expenses necessary to move the commodity to countries for use.Our goal is to provide a methodological approach to analyze the ongoing trends and predicting the future price of shipment packages based on various factors which effect the pricing.This prediction is to be done using the machine learning models."
   ]
  },
  {
   "cell_type": "code",
   "execution_count": 1,
   "id": "d77be24c",
   "metadata": {},
   "outputs": [],
   "source": [
    "import pandas as pd\n",
    "import numpy as np\n",
    "import matplotlib.pyplot as plt\n",
    "import seaborn as sns"
   ]
  },
  {
   "cell_type": "code",
   "execution_count": 2,
   "id": "a4aad1ba",
   "metadata": {},
   "outputs": [
    {
     "data": {
      "text/html": [
       "<div>\n",
       "<style scoped>\n",
       "    .dataframe tbody tr th:only-of-type {\n",
       "        vertical-align: middle;\n",
       "    }\n",
       "\n",
       "    .dataframe tbody tr th {\n",
       "        vertical-align: top;\n",
       "    }\n",
       "\n",
       "    .dataframe thead th {\n",
       "        text-align: right;\n",
       "    }\n",
       "</style>\n",
       "<table border=\"1\" class=\"dataframe\">\n",
       "  <thead>\n",
       "    <tr style=\"text-align: right;\">\n",
       "      <th></th>\n",
       "      <th>ID</th>\n",
       "      <th>Project Code</th>\n",
       "      <th>PQ #</th>\n",
       "      <th>PO / SO #</th>\n",
       "      <th>ASN/DN #</th>\n",
       "      <th>Country</th>\n",
       "      <th>Managed By</th>\n",
       "      <th>Fulfill Via</th>\n",
       "      <th>Vendor INCO Term</th>\n",
       "      <th>Shipment Mode</th>\n",
       "      <th>...</th>\n",
       "      <th>Unit of Measure (Per Pack)</th>\n",
       "      <th>Line Item Quantity</th>\n",
       "      <th>Line Item Value</th>\n",
       "      <th>Pack Price</th>\n",
       "      <th>Unit Price</th>\n",
       "      <th>Manufacturing Site</th>\n",
       "      <th>First Line Designation</th>\n",
       "      <th>Weight (Kilograms)</th>\n",
       "      <th>Freight Cost (USD)</th>\n",
       "      <th>Line Item Insurance (USD)</th>\n",
       "    </tr>\n",
       "  </thead>\n",
       "  <tbody>\n",
       "    <tr>\n",
       "      <th>0</th>\n",
       "      <td>1</td>\n",
       "      <td>100-CI-T01</td>\n",
       "      <td>Pre-PQ Process</td>\n",
       "      <td>SCMS-4</td>\n",
       "      <td>ASN-8</td>\n",
       "      <td>Côte d'Ivoire</td>\n",
       "      <td>PMO - US</td>\n",
       "      <td>Direct Drop</td>\n",
       "      <td>EXW</td>\n",
       "      <td>Air</td>\n",
       "      <td>...</td>\n",
       "      <td>30</td>\n",
       "      <td>19</td>\n",
       "      <td>551.0</td>\n",
       "      <td>29.00</td>\n",
       "      <td>0.97</td>\n",
       "      <td>Ranbaxy Fine Chemicals LTD</td>\n",
       "      <td>Yes</td>\n",
       "      <td>13</td>\n",
       "      <td>780.34</td>\n",
       "      <td>NaN</td>\n",
       "    </tr>\n",
       "    <tr>\n",
       "      <th>1</th>\n",
       "      <td>3</td>\n",
       "      <td>108-VN-T01</td>\n",
       "      <td>Pre-PQ Process</td>\n",
       "      <td>SCMS-13</td>\n",
       "      <td>ASN-85</td>\n",
       "      <td>Vietnam</td>\n",
       "      <td>PMO - US</td>\n",
       "      <td>Direct Drop</td>\n",
       "      <td>EXW</td>\n",
       "      <td>Air</td>\n",
       "      <td>...</td>\n",
       "      <td>240</td>\n",
       "      <td>1000</td>\n",
       "      <td>6200.0</td>\n",
       "      <td>6.20</td>\n",
       "      <td>0.03</td>\n",
       "      <td>Aurobindo Unit III, India</td>\n",
       "      <td>Yes</td>\n",
       "      <td>358</td>\n",
       "      <td>4521.5</td>\n",
       "      <td>NaN</td>\n",
       "    </tr>\n",
       "    <tr>\n",
       "      <th>2</th>\n",
       "      <td>4</td>\n",
       "      <td>100-CI-T01</td>\n",
       "      <td>Pre-PQ Process</td>\n",
       "      <td>SCMS-20</td>\n",
       "      <td>ASN-14</td>\n",
       "      <td>Côte d'Ivoire</td>\n",
       "      <td>PMO - US</td>\n",
       "      <td>Direct Drop</td>\n",
       "      <td>FCA</td>\n",
       "      <td>Air</td>\n",
       "      <td>...</td>\n",
       "      <td>100</td>\n",
       "      <td>500</td>\n",
       "      <td>40000.0</td>\n",
       "      <td>80.00</td>\n",
       "      <td>0.80</td>\n",
       "      <td>ABBVIE GmbH &amp; Co.KG Wiesbaden</td>\n",
       "      <td>Yes</td>\n",
       "      <td>171</td>\n",
       "      <td>1653.78</td>\n",
       "      <td>NaN</td>\n",
       "    </tr>\n",
       "    <tr>\n",
       "      <th>3</th>\n",
       "      <td>15</td>\n",
       "      <td>108-VN-T01</td>\n",
       "      <td>Pre-PQ Process</td>\n",
       "      <td>SCMS-78</td>\n",
       "      <td>ASN-50</td>\n",
       "      <td>Vietnam</td>\n",
       "      <td>PMO - US</td>\n",
       "      <td>Direct Drop</td>\n",
       "      <td>EXW</td>\n",
       "      <td>Air</td>\n",
       "      <td>...</td>\n",
       "      <td>60</td>\n",
       "      <td>31920</td>\n",
       "      <td>127360.8</td>\n",
       "      <td>3.99</td>\n",
       "      <td>0.07</td>\n",
       "      <td>Ranbaxy, Paonta Shahib, India</td>\n",
       "      <td>Yes</td>\n",
       "      <td>1855</td>\n",
       "      <td>16007.06</td>\n",
       "      <td>NaN</td>\n",
       "    </tr>\n",
       "    <tr>\n",
       "      <th>4</th>\n",
       "      <td>16</td>\n",
       "      <td>108-VN-T01</td>\n",
       "      <td>Pre-PQ Process</td>\n",
       "      <td>SCMS-81</td>\n",
       "      <td>ASN-55</td>\n",
       "      <td>Vietnam</td>\n",
       "      <td>PMO - US</td>\n",
       "      <td>Direct Drop</td>\n",
       "      <td>EXW</td>\n",
       "      <td>Air</td>\n",
       "      <td>...</td>\n",
       "      <td>60</td>\n",
       "      <td>38000</td>\n",
       "      <td>121600.0</td>\n",
       "      <td>3.20</td>\n",
       "      <td>0.05</td>\n",
       "      <td>Aurobindo Unit III, India</td>\n",
       "      <td>Yes</td>\n",
       "      <td>7590</td>\n",
       "      <td>45450.08</td>\n",
       "      <td>NaN</td>\n",
       "    </tr>\n",
       "  </tbody>\n",
       "</table>\n",
       "<p>5 rows × 33 columns</p>\n",
       "</div>"
      ],
      "text/plain": [
       "   ID Project Code            PQ # PO / SO # ASN/DN #        Country  \\\n",
       "0   1   100-CI-T01  Pre-PQ Process    SCMS-4    ASN-8  Côte d'Ivoire   \n",
       "1   3   108-VN-T01  Pre-PQ Process   SCMS-13   ASN-85        Vietnam   \n",
       "2   4   100-CI-T01  Pre-PQ Process   SCMS-20   ASN-14  Côte d'Ivoire   \n",
       "3  15   108-VN-T01  Pre-PQ Process   SCMS-78   ASN-50        Vietnam   \n",
       "4  16   108-VN-T01  Pre-PQ Process   SCMS-81   ASN-55        Vietnam   \n",
       "\n",
       "  Managed By  Fulfill Via Vendor INCO Term Shipment Mode  ...  \\\n",
       "0   PMO - US  Direct Drop              EXW           Air  ...   \n",
       "1   PMO - US  Direct Drop              EXW           Air  ...   \n",
       "2   PMO - US  Direct Drop              FCA           Air  ...   \n",
       "3   PMO - US  Direct Drop              EXW           Air  ...   \n",
       "4   PMO - US  Direct Drop              EXW           Air  ...   \n",
       "\n",
       "  Unit of Measure (Per Pack) Line Item Quantity Line Item Value Pack Price  \\\n",
       "0                         30                 19           551.0      29.00   \n",
       "1                        240               1000          6200.0       6.20   \n",
       "2                        100                500         40000.0      80.00   \n",
       "3                         60              31920        127360.8       3.99   \n",
       "4                         60              38000        121600.0       3.20   \n",
       "\n",
       "  Unit Price             Manufacturing Site First Line Designation  \\\n",
       "0       0.97     Ranbaxy Fine Chemicals LTD                    Yes   \n",
       "1       0.03      Aurobindo Unit III, India                    Yes   \n",
       "2       0.80  ABBVIE GmbH & Co.KG Wiesbaden                    Yes   \n",
       "3       0.07  Ranbaxy, Paonta Shahib, India                    Yes   \n",
       "4       0.05      Aurobindo Unit III, India                    Yes   \n",
       "\n",
       "  Weight (Kilograms) Freight Cost (USD) Line Item Insurance (USD)  \n",
       "0                 13             780.34                       NaN  \n",
       "1                358             4521.5                       NaN  \n",
       "2                171            1653.78                       NaN  \n",
       "3               1855           16007.06                       NaN  \n",
       "4               7590           45450.08                       NaN  \n",
       "\n",
       "[5 rows x 33 columns]"
      ]
     },
     "execution_count": 2,
     "metadata": {},
     "output_type": "execute_result"
    }
   ],
   "source": [
    "df=pd.read_csv('SCMS_Delivery_History_Dataset.csv')\n",
    "df.head()"
   ]
  },
  {
   "cell_type": "code",
   "execution_count": 3,
   "id": "c4dc692c",
   "metadata": {},
   "outputs": [
    {
     "data": {
      "text/html": [
       "<div>\n",
       "<style scoped>\n",
       "    .dataframe tbody tr th:only-of-type {\n",
       "        vertical-align: middle;\n",
       "    }\n",
       "\n",
       "    .dataframe tbody tr th {\n",
       "        vertical-align: top;\n",
       "    }\n",
       "\n",
       "    .dataframe thead th {\n",
       "        text-align: right;\n",
       "    }\n",
       "</style>\n",
       "<table border=\"1\" class=\"dataframe\">\n",
       "  <thead>\n",
       "    <tr style=\"text-align: right;\">\n",
       "      <th></th>\n",
       "      <th>ID</th>\n",
       "      <th>Project Code</th>\n",
       "      <th>PQ #</th>\n",
       "      <th>PO / SO #</th>\n",
       "      <th>ASN/DN #</th>\n",
       "      <th>Country</th>\n",
       "      <th>Managed By</th>\n",
       "      <th>Fulfill Via</th>\n",
       "      <th>Vendor INCO Term</th>\n",
       "      <th>Shipment Mode</th>\n",
       "      <th>...</th>\n",
       "      <th>Unit of Measure (Per Pack)</th>\n",
       "      <th>Line Item Quantity</th>\n",
       "      <th>Line Item Value</th>\n",
       "      <th>Pack Price</th>\n",
       "      <th>Unit Price</th>\n",
       "      <th>Manufacturing Site</th>\n",
       "      <th>First Line Designation</th>\n",
       "      <th>Weight (Kilograms)</th>\n",
       "      <th>Freight Cost (USD)</th>\n",
       "      <th>Line Item Insurance (USD)</th>\n",
       "    </tr>\n",
       "  </thead>\n",
       "  <tbody>\n",
       "    <tr>\n",
       "      <th>10319</th>\n",
       "      <td>86818</td>\n",
       "      <td>103-ZW-T30</td>\n",
       "      <td>FPQ-15197</td>\n",
       "      <td>SO-50020</td>\n",
       "      <td>DN-4307</td>\n",
       "      <td>Zimbabwe</td>\n",
       "      <td>PMO - US</td>\n",
       "      <td>From RDC</td>\n",
       "      <td>N/A - From RDC</td>\n",
       "      <td>Truck</td>\n",
       "      <td>...</td>\n",
       "      <td>60</td>\n",
       "      <td>166571</td>\n",
       "      <td>599655.60</td>\n",
       "      <td>3.60</td>\n",
       "      <td>0.06</td>\n",
       "      <td>Mylan,  H-12 &amp; H-13, India</td>\n",
       "      <td>No</td>\n",
       "      <td>See DN-4307 (ID#:83920)</td>\n",
       "      <td>See DN-4307 (ID#:83920)</td>\n",
       "      <td>705.79</td>\n",
       "    </tr>\n",
       "    <tr>\n",
       "      <th>10320</th>\n",
       "      <td>86819</td>\n",
       "      <td>104-CI-T30</td>\n",
       "      <td>FPQ-15259</td>\n",
       "      <td>SO-50102</td>\n",
       "      <td>DN-4313</td>\n",
       "      <td>Côte d'Ivoire</td>\n",
       "      <td>PMO - US</td>\n",
       "      <td>From RDC</td>\n",
       "      <td>N/A - From RDC</td>\n",
       "      <td>Truck</td>\n",
       "      <td>...</td>\n",
       "      <td>60</td>\n",
       "      <td>21072</td>\n",
       "      <td>137389.44</td>\n",
       "      <td>6.52</td>\n",
       "      <td>0.11</td>\n",
       "      <td>Hetero Unit III Hyderabad IN</td>\n",
       "      <td>No</td>\n",
       "      <td>See DN-4313 (ID#:83921)</td>\n",
       "      <td>See DN-4313 (ID#:83921)</td>\n",
       "      <td>161.71</td>\n",
       "    </tr>\n",
       "    <tr>\n",
       "      <th>10321</th>\n",
       "      <td>86821</td>\n",
       "      <td>110-ZM-T30</td>\n",
       "      <td>FPQ-14784</td>\n",
       "      <td>SO-49600</td>\n",
       "      <td>DN-4316</td>\n",
       "      <td>Zambia</td>\n",
       "      <td>PMO - US</td>\n",
       "      <td>From RDC</td>\n",
       "      <td>N/A - From RDC</td>\n",
       "      <td>Truck</td>\n",
       "      <td>...</td>\n",
       "      <td>30</td>\n",
       "      <td>514526</td>\n",
       "      <td>5140114.74</td>\n",
       "      <td>9.99</td>\n",
       "      <td>0.33</td>\n",
       "      <td>Cipla Ltd A-42 MIDC Mahar. IN</td>\n",
       "      <td>No</td>\n",
       "      <td>Weight Captured Separately</td>\n",
       "      <td>Freight Included in Commodity Cost</td>\n",
       "      <td>5284.04</td>\n",
       "    </tr>\n",
       "    <tr>\n",
       "      <th>10322</th>\n",
       "      <td>86822</td>\n",
       "      <td>200-ZW-T30</td>\n",
       "      <td>FPQ-16523</td>\n",
       "      <td>SO-51680</td>\n",
       "      <td>DN-4334</td>\n",
       "      <td>Zimbabwe</td>\n",
       "      <td>PMO - US</td>\n",
       "      <td>From RDC</td>\n",
       "      <td>N/A - From RDC</td>\n",
       "      <td>Truck</td>\n",
       "      <td>...</td>\n",
       "      <td>60</td>\n",
       "      <td>17465</td>\n",
       "      <td>113871.80</td>\n",
       "      <td>6.52</td>\n",
       "      <td>0.11</td>\n",
       "      <td>Mylan (formerly Matrix) Nashik</td>\n",
       "      <td>Yes</td>\n",
       "      <td>1392</td>\n",
       "      <td>Freight Included in Commodity Cost</td>\n",
       "      <td>134.03</td>\n",
       "    </tr>\n",
       "    <tr>\n",
       "      <th>10323</th>\n",
       "      <td>86823</td>\n",
       "      <td>103-ZW-T30</td>\n",
       "      <td>FPQ-15197</td>\n",
       "      <td>SO-50022</td>\n",
       "      <td>DN-4336</td>\n",
       "      <td>Zimbabwe</td>\n",
       "      <td>PMO - US</td>\n",
       "      <td>From RDC</td>\n",
       "      <td>N/A - From RDC</td>\n",
       "      <td>Truck</td>\n",
       "      <td>...</td>\n",
       "      <td>60</td>\n",
       "      <td>36639</td>\n",
       "      <td>72911.61</td>\n",
       "      <td>1.99</td>\n",
       "      <td>0.03</td>\n",
       "      <td>Cipla, Goa, India</td>\n",
       "      <td>No</td>\n",
       "      <td>Weight Captured Separately</td>\n",
       "      <td>Freight Included in Commodity Cost</td>\n",
       "      <td>85.82</td>\n",
       "    </tr>\n",
       "  </tbody>\n",
       "</table>\n",
       "<p>5 rows × 33 columns</p>\n",
       "</div>"
      ],
      "text/plain": [
       "          ID Project Code       PQ # PO / SO # ASN/DN #        Country  \\\n",
       "10319  86818   103-ZW-T30  FPQ-15197  SO-50020  DN-4307       Zimbabwe   \n",
       "10320  86819   104-CI-T30  FPQ-15259  SO-50102  DN-4313  Côte d'Ivoire   \n",
       "10321  86821   110-ZM-T30  FPQ-14784  SO-49600  DN-4316         Zambia   \n",
       "10322  86822   200-ZW-T30  FPQ-16523  SO-51680  DN-4334       Zimbabwe   \n",
       "10323  86823   103-ZW-T30  FPQ-15197  SO-50022  DN-4336       Zimbabwe   \n",
       "\n",
       "      Managed By Fulfill Via Vendor INCO Term Shipment Mode  ...  \\\n",
       "10319   PMO - US    From RDC   N/A - From RDC         Truck  ...   \n",
       "10320   PMO - US    From RDC   N/A - From RDC         Truck  ...   \n",
       "10321   PMO - US    From RDC   N/A - From RDC         Truck  ...   \n",
       "10322   PMO - US    From RDC   N/A - From RDC         Truck  ...   \n",
       "10323   PMO - US    From RDC   N/A - From RDC         Truck  ...   \n",
       "\n",
       "      Unit of Measure (Per Pack) Line Item Quantity Line Item Value  \\\n",
       "10319                         60             166571       599655.60   \n",
       "10320                         60              21072       137389.44   \n",
       "10321                         30             514526      5140114.74   \n",
       "10322                         60              17465       113871.80   \n",
       "10323                         60              36639        72911.61   \n",
       "\n",
       "      Pack Price Unit Price              Manufacturing Site  \\\n",
       "10319       3.60       0.06      Mylan,  H-12 & H-13, India   \n",
       "10320       6.52       0.11    Hetero Unit III Hyderabad IN   \n",
       "10321       9.99       0.33   Cipla Ltd A-42 MIDC Mahar. IN   \n",
       "10322       6.52       0.11  Mylan (formerly Matrix) Nashik   \n",
       "10323       1.99       0.03               Cipla, Goa, India   \n",
       "\n",
       "      First Line Designation          Weight (Kilograms)  \\\n",
       "10319                     No     See DN-4307 (ID#:83920)   \n",
       "10320                     No     See DN-4313 (ID#:83921)   \n",
       "10321                     No  Weight Captured Separately   \n",
       "10322                    Yes                        1392   \n",
       "10323                     No  Weight Captured Separately   \n",
       "\n",
       "                       Freight Cost (USD) Line Item Insurance (USD)  \n",
       "10319             See DN-4307 (ID#:83920)                    705.79  \n",
       "10320             See DN-4313 (ID#:83921)                    161.71  \n",
       "10321  Freight Included in Commodity Cost                   5284.04  \n",
       "10322  Freight Included in Commodity Cost                    134.03  \n",
       "10323  Freight Included in Commodity Cost                     85.82  \n",
       "\n",
       "[5 rows x 33 columns]"
      ]
     },
     "execution_count": 3,
     "metadata": {},
     "output_type": "execute_result"
    }
   ],
   "source": [
    "df.tail()"
   ]
  },
  {
   "cell_type": "code",
   "execution_count": 4,
   "id": "d2a37308",
   "metadata": {},
   "outputs": [
    {
     "data": {
      "text/plain": [
       "(10324, 33)"
      ]
     },
     "execution_count": 4,
     "metadata": {},
     "output_type": "execute_result"
    }
   ],
   "source": [
    "df.shape"
   ]
  },
  {
   "cell_type": "code",
   "execution_count": 5,
   "id": "013eb938",
   "metadata": {},
   "outputs": [
    {
     "data": {
      "text/plain": [
       "Index(['ID', 'Project Code', 'PQ #', 'PO / SO #', 'ASN/DN #', 'Country',\n",
       "       'Managed By', 'Fulfill Via', 'Vendor INCO Term', 'Shipment Mode',\n",
       "       'PQ First Sent to Client Date', 'PO Sent to Vendor Date',\n",
       "       'Scheduled Delivery Date', 'Delivered to Client Date',\n",
       "       'Delivery Recorded Date', 'Product Group', 'Sub Classification',\n",
       "       'Vendor', 'Item Description', 'Molecule/Test Type', 'Brand', 'Dosage',\n",
       "       'Dosage Form', 'Unit of Measure (Per Pack)', 'Line Item Quantity',\n",
       "       'Line Item Value', 'Pack Price', 'Unit Price', 'Manufacturing Site',\n",
       "       'First Line Designation', 'Weight (Kilograms)', 'Freight Cost (USD)',\n",
       "       'Line Item Insurance (USD)'],\n",
       "      dtype='object')"
      ]
     },
     "execution_count": 5,
     "metadata": {},
     "output_type": "execute_result"
    }
   ],
   "source": [
    "df.columns"
   ]
  },
  {
   "cell_type": "code",
   "execution_count": 6,
   "id": "ca2d9754",
   "metadata": {},
   "outputs": [
    {
     "data": {
      "text/plain": [
       "ID                                int64\n",
       "Project Code                     object\n",
       "PQ #                             object\n",
       "PO / SO #                        object\n",
       "ASN/DN #                         object\n",
       "Country                          object\n",
       "Managed By                       object\n",
       "Fulfill Via                      object\n",
       "Vendor INCO Term                 object\n",
       "Shipment Mode                    object\n",
       "PQ First Sent to Client Date     object\n",
       "PO Sent to Vendor Date           object\n",
       "Scheduled Delivery Date          object\n",
       "Delivered to Client Date         object\n",
       "Delivery Recorded Date           object\n",
       "Product Group                    object\n",
       "Sub Classification               object\n",
       "Vendor                           object\n",
       "Item Description                 object\n",
       "Molecule/Test Type               object\n",
       "Brand                            object\n",
       "Dosage                           object\n",
       "Dosage Form                      object\n",
       "Unit of Measure (Per Pack)        int64\n",
       "Line Item Quantity                int64\n",
       "Line Item Value                 float64\n",
       "Pack Price                      float64\n",
       "Unit Price                      float64\n",
       "Manufacturing Site               object\n",
       "First Line Designation           object\n",
       "Weight (Kilograms)               object\n",
       "Freight Cost (USD)               object\n",
       "Line Item Insurance (USD)       float64\n",
       "dtype: object"
      ]
     },
     "execution_count": 6,
     "metadata": {},
     "output_type": "execute_result"
    }
   ],
   "source": [
    "df.dtypes"
   ]
  },
  {
   "cell_type": "code",
   "execution_count": 7,
   "id": "4b5894db",
   "metadata": {},
   "outputs": [
    {
     "data": {
      "text/html": [
       "<div>\n",
       "<style scoped>\n",
       "    .dataframe tbody tr th:only-of-type {\n",
       "        vertical-align: middle;\n",
       "    }\n",
       "\n",
       "    .dataframe tbody tr th {\n",
       "        vertical-align: top;\n",
       "    }\n",
       "\n",
       "    .dataframe thead th {\n",
       "        text-align: right;\n",
       "    }\n",
       "</style>\n",
       "<table border=\"1\" class=\"dataframe\">\n",
       "  <thead>\n",
       "    <tr style=\"text-align: right;\">\n",
       "      <th></th>\n",
       "      <th>ID</th>\n",
       "      <th>Project Code</th>\n",
       "      <th>PQ #</th>\n",
       "      <th>PO / SO #</th>\n",
       "      <th>ASN/DN #</th>\n",
       "      <th>Country</th>\n",
       "      <th>Managed By</th>\n",
       "      <th>Fulfill Via</th>\n",
       "      <th>Vendor INCO Term</th>\n",
       "      <th>Shipment Mode</th>\n",
       "      <th>...</th>\n",
       "      <th>Unit of Measure (Per Pack)</th>\n",
       "      <th>Line Item Quantity</th>\n",
       "      <th>Line Item Value</th>\n",
       "      <th>Pack Price</th>\n",
       "      <th>Unit Price</th>\n",
       "      <th>Manufacturing Site</th>\n",
       "      <th>First Line Designation</th>\n",
       "      <th>Weight (Kilograms)</th>\n",
       "      <th>Freight Cost (USD)</th>\n",
       "      <th>Line Item Insurance (USD)</th>\n",
       "    </tr>\n",
       "  </thead>\n",
       "  <tbody>\n",
       "    <tr>\n",
       "      <th>count</th>\n",
       "      <td>10324.000000</td>\n",
       "      <td>10324</td>\n",
       "      <td>10324</td>\n",
       "      <td>10324</td>\n",
       "      <td>10324</td>\n",
       "      <td>10324</td>\n",
       "      <td>10324</td>\n",
       "      <td>10324</td>\n",
       "      <td>10324</td>\n",
       "      <td>9964</td>\n",
       "      <td>...</td>\n",
       "      <td>10324.000000</td>\n",
       "      <td>10324.000000</td>\n",
       "      <td>1.032400e+04</td>\n",
       "      <td>10324.000000</td>\n",
       "      <td>10324.000000</td>\n",
       "      <td>10324</td>\n",
       "      <td>10324</td>\n",
       "      <td>10324</td>\n",
       "      <td>10324</td>\n",
       "      <td>10037.000000</td>\n",
       "    </tr>\n",
       "    <tr>\n",
       "      <th>unique</th>\n",
       "      <td>NaN</td>\n",
       "      <td>142</td>\n",
       "      <td>1237</td>\n",
       "      <td>6233</td>\n",
       "      <td>7030</td>\n",
       "      <td>43</td>\n",
       "      <td>4</td>\n",
       "      <td>2</td>\n",
       "      <td>8</td>\n",
       "      <td>4</td>\n",
       "      <td>...</td>\n",
       "      <td>NaN</td>\n",
       "      <td>NaN</td>\n",
       "      <td>NaN</td>\n",
       "      <td>NaN</td>\n",
       "      <td>NaN</td>\n",
       "      <td>88</td>\n",
       "      <td>2</td>\n",
       "      <td>4688</td>\n",
       "      <td>6733</td>\n",
       "      <td>NaN</td>\n",
       "    </tr>\n",
       "    <tr>\n",
       "      <th>top</th>\n",
       "      <td>NaN</td>\n",
       "      <td>116-ZA-T30</td>\n",
       "      <td>Pre-PQ Process</td>\n",
       "      <td>SCMS-199289</td>\n",
       "      <td>ASN-19166</td>\n",
       "      <td>South Africa</td>\n",
       "      <td>PMO - US</td>\n",
       "      <td>From RDC</td>\n",
       "      <td>N/A - From RDC</td>\n",
       "      <td>Air</td>\n",
       "      <td>...</td>\n",
       "      <td>NaN</td>\n",
       "      <td>NaN</td>\n",
       "      <td>NaN</td>\n",
       "      <td>NaN</td>\n",
       "      <td>NaN</td>\n",
       "      <td>Aurobindo Unit III, India</td>\n",
       "      <td>Yes</td>\n",
       "      <td>Weight Captured Separately</td>\n",
       "      <td>Freight Included in Commodity Cost</td>\n",
       "      <td>NaN</td>\n",
       "    </tr>\n",
       "    <tr>\n",
       "      <th>freq</th>\n",
       "      <td>NaN</td>\n",
       "      <td>768</td>\n",
       "      <td>2681</td>\n",
       "      <td>67</td>\n",
       "      <td>54</td>\n",
       "      <td>1406</td>\n",
       "      <td>10265</td>\n",
       "      <td>5404</td>\n",
       "      <td>5404</td>\n",
       "      <td>6113</td>\n",
       "      <td>...</td>\n",
       "      <td>NaN</td>\n",
       "      <td>NaN</td>\n",
       "      <td>NaN</td>\n",
       "      <td>NaN</td>\n",
       "      <td>NaN</td>\n",
       "      <td>3172</td>\n",
       "      <td>7030</td>\n",
       "      <td>1507</td>\n",
       "      <td>1442</td>\n",
       "      <td>NaN</td>\n",
       "    </tr>\n",
       "    <tr>\n",
       "      <th>mean</th>\n",
       "      <td>51098.968229</td>\n",
       "      <td>NaN</td>\n",
       "      <td>NaN</td>\n",
       "      <td>NaN</td>\n",
       "      <td>NaN</td>\n",
       "      <td>NaN</td>\n",
       "      <td>NaN</td>\n",
       "      <td>NaN</td>\n",
       "      <td>NaN</td>\n",
       "      <td>NaN</td>\n",
       "      <td>...</td>\n",
       "      <td>77.990895</td>\n",
       "      <td>18332.534870</td>\n",
       "      <td>1.576506e+05</td>\n",
       "      <td>21.910241</td>\n",
       "      <td>0.611701</td>\n",
       "      <td>NaN</td>\n",
       "      <td>NaN</td>\n",
       "      <td>NaN</td>\n",
       "      <td>NaN</td>\n",
       "      <td>240.117626</td>\n",
       "    </tr>\n",
       "    <tr>\n",
       "      <th>std</th>\n",
       "      <td>31944.332496</td>\n",
       "      <td>NaN</td>\n",
       "      <td>NaN</td>\n",
       "      <td>NaN</td>\n",
       "      <td>NaN</td>\n",
       "      <td>NaN</td>\n",
       "      <td>NaN</td>\n",
       "      <td>NaN</td>\n",
       "      <td>NaN</td>\n",
       "      <td>NaN</td>\n",
       "      <td>...</td>\n",
       "      <td>76.579764</td>\n",
       "      <td>40035.302961</td>\n",
       "      <td>3.452921e+05</td>\n",
       "      <td>45.609223</td>\n",
       "      <td>3.275808</td>\n",
       "      <td>NaN</td>\n",
       "      <td>NaN</td>\n",
       "      <td>NaN</td>\n",
       "      <td>NaN</td>\n",
       "      <td>500.190568</td>\n",
       "    </tr>\n",
       "    <tr>\n",
       "      <th>min</th>\n",
       "      <td>1.000000</td>\n",
       "      <td>NaN</td>\n",
       "      <td>NaN</td>\n",
       "      <td>NaN</td>\n",
       "      <td>NaN</td>\n",
       "      <td>NaN</td>\n",
       "      <td>NaN</td>\n",
       "      <td>NaN</td>\n",
       "      <td>NaN</td>\n",
       "      <td>NaN</td>\n",
       "      <td>...</td>\n",
       "      <td>1.000000</td>\n",
       "      <td>1.000000</td>\n",
       "      <td>0.000000e+00</td>\n",
       "      <td>0.000000</td>\n",
       "      <td>0.000000</td>\n",
       "      <td>NaN</td>\n",
       "      <td>NaN</td>\n",
       "      <td>NaN</td>\n",
       "      <td>NaN</td>\n",
       "      <td>0.000000</td>\n",
       "    </tr>\n",
       "    <tr>\n",
       "      <th>25%</th>\n",
       "      <td>12795.750000</td>\n",
       "      <td>NaN</td>\n",
       "      <td>NaN</td>\n",
       "      <td>NaN</td>\n",
       "      <td>NaN</td>\n",
       "      <td>NaN</td>\n",
       "      <td>NaN</td>\n",
       "      <td>NaN</td>\n",
       "      <td>NaN</td>\n",
       "      <td>NaN</td>\n",
       "      <td>...</td>\n",
       "      <td>30.000000</td>\n",
       "      <td>408.000000</td>\n",
       "      <td>4.314593e+03</td>\n",
       "      <td>4.120000</td>\n",
       "      <td>0.080000</td>\n",
       "      <td>NaN</td>\n",
       "      <td>NaN</td>\n",
       "      <td>NaN</td>\n",
       "      <td>NaN</td>\n",
       "      <td>6.510000</td>\n",
       "    </tr>\n",
       "    <tr>\n",
       "      <th>50%</th>\n",
       "      <td>57540.500000</td>\n",
       "      <td>NaN</td>\n",
       "      <td>NaN</td>\n",
       "      <td>NaN</td>\n",
       "      <td>NaN</td>\n",
       "      <td>NaN</td>\n",
       "      <td>NaN</td>\n",
       "      <td>NaN</td>\n",
       "      <td>NaN</td>\n",
       "      <td>NaN</td>\n",
       "      <td>...</td>\n",
       "      <td>60.000000</td>\n",
       "      <td>3000.000000</td>\n",
       "      <td>3.047147e+04</td>\n",
       "      <td>9.300000</td>\n",
       "      <td>0.160000</td>\n",
       "      <td>NaN</td>\n",
       "      <td>NaN</td>\n",
       "      <td>NaN</td>\n",
       "      <td>NaN</td>\n",
       "      <td>47.040000</td>\n",
       "    </tr>\n",
       "    <tr>\n",
       "      <th>75%</th>\n",
       "      <td>83648.250000</td>\n",
       "      <td>NaN</td>\n",
       "      <td>NaN</td>\n",
       "      <td>NaN</td>\n",
       "      <td>NaN</td>\n",
       "      <td>NaN</td>\n",
       "      <td>NaN</td>\n",
       "      <td>NaN</td>\n",
       "      <td>NaN</td>\n",
       "      <td>NaN</td>\n",
       "      <td>...</td>\n",
       "      <td>90.000000</td>\n",
       "      <td>17039.750000</td>\n",
       "      <td>1.664471e+05</td>\n",
       "      <td>23.592500</td>\n",
       "      <td>0.470000</td>\n",
       "      <td>NaN</td>\n",
       "      <td>NaN</td>\n",
       "      <td>NaN</td>\n",
       "      <td>NaN</td>\n",
       "      <td>252.400000</td>\n",
       "    </tr>\n",
       "    <tr>\n",
       "      <th>max</th>\n",
       "      <td>86823.000000</td>\n",
       "      <td>NaN</td>\n",
       "      <td>NaN</td>\n",
       "      <td>NaN</td>\n",
       "      <td>NaN</td>\n",
       "      <td>NaN</td>\n",
       "      <td>NaN</td>\n",
       "      <td>NaN</td>\n",
       "      <td>NaN</td>\n",
       "      <td>NaN</td>\n",
       "      <td>...</td>\n",
       "      <td>1000.000000</td>\n",
       "      <td>619999.000000</td>\n",
       "      <td>5.951990e+06</td>\n",
       "      <td>1345.640000</td>\n",
       "      <td>238.650000</td>\n",
       "      <td>NaN</td>\n",
       "      <td>NaN</td>\n",
       "      <td>NaN</td>\n",
       "      <td>NaN</td>\n",
       "      <td>7708.440000</td>\n",
       "    </tr>\n",
       "  </tbody>\n",
       "</table>\n",
       "<p>11 rows × 33 columns</p>\n",
       "</div>"
      ],
      "text/plain": [
       "                  ID Project Code            PQ #    PO / SO #   ASN/DN #  \\\n",
       "count   10324.000000        10324           10324        10324      10324   \n",
       "unique           NaN          142            1237         6233       7030   \n",
       "top              NaN   116-ZA-T30  Pre-PQ Process  SCMS-199289  ASN-19166   \n",
       "freq             NaN          768            2681           67         54   \n",
       "mean    51098.968229          NaN             NaN          NaN        NaN   \n",
       "std     31944.332496          NaN             NaN          NaN        NaN   \n",
       "min         1.000000          NaN             NaN          NaN        NaN   \n",
       "25%     12795.750000          NaN             NaN          NaN        NaN   \n",
       "50%     57540.500000          NaN             NaN          NaN        NaN   \n",
       "75%     83648.250000          NaN             NaN          NaN        NaN   \n",
       "max     86823.000000          NaN             NaN          NaN        NaN   \n",
       "\n",
       "             Country Managed By Fulfill Via Vendor INCO Term Shipment Mode  \\\n",
       "count          10324      10324       10324            10324          9964   \n",
       "unique            43          4           2                8             4   \n",
       "top     South Africa   PMO - US    From RDC   N/A - From RDC           Air   \n",
       "freq            1406      10265        5404             5404          6113   \n",
       "mean             NaN        NaN         NaN              NaN           NaN   \n",
       "std              NaN        NaN         NaN              NaN           NaN   \n",
       "min              NaN        NaN         NaN              NaN           NaN   \n",
       "25%              NaN        NaN         NaN              NaN           NaN   \n",
       "50%              NaN        NaN         NaN              NaN           NaN   \n",
       "75%              NaN        NaN         NaN              NaN           NaN   \n",
       "max              NaN        NaN         NaN              NaN           NaN   \n",
       "\n",
       "        ... Unit of Measure (Per Pack) Line Item Quantity Line Item Value  \\\n",
       "count   ...               10324.000000       10324.000000    1.032400e+04   \n",
       "unique  ...                        NaN                NaN             NaN   \n",
       "top     ...                        NaN                NaN             NaN   \n",
       "freq    ...                        NaN                NaN             NaN   \n",
       "mean    ...                  77.990895       18332.534870    1.576506e+05   \n",
       "std     ...                  76.579764       40035.302961    3.452921e+05   \n",
       "min     ...                   1.000000           1.000000    0.000000e+00   \n",
       "25%     ...                  30.000000         408.000000    4.314593e+03   \n",
       "50%     ...                  60.000000        3000.000000    3.047147e+04   \n",
       "75%     ...                  90.000000       17039.750000    1.664471e+05   \n",
       "max     ...                1000.000000      619999.000000    5.951990e+06   \n",
       "\n",
       "          Pack Price    Unit Price         Manufacturing Site  \\\n",
       "count   10324.000000  10324.000000                      10324   \n",
       "unique           NaN           NaN                         88   \n",
       "top              NaN           NaN  Aurobindo Unit III, India   \n",
       "freq             NaN           NaN                       3172   \n",
       "mean       21.910241      0.611701                        NaN   \n",
       "std        45.609223      3.275808                        NaN   \n",
       "min         0.000000      0.000000                        NaN   \n",
       "25%         4.120000      0.080000                        NaN   \n",
       "50%         9.300000      0.160000                        NaN   \n",
       "75%        23.592500      0.470000                        NaN   \n",
       "max      1345.640000    238.650000                        NaN   \n",
       "\n",
       "       First Line Designation          Weight (Kilograms)  \\\n",
       "count                   10324                       10324   \n",
       "unique                      2                        4688   \n",
       "top                       Yes  Weight Captured Separately   \n",
       "freq                     7030                        1507   \n",
       "mean                      NaN                         NaN   \n",
       "std                       NaN                         NaN   \n",
       "min                       NaN                         NaN   \n",
       "25%                       NaN                         NaN   \n",
       "50%                       NaN                         NaN   \n",
       "75%                       NaN                         NaN   \n",
       "max                       NaN                         NaN   \n",
       "\n",
       "                        Freight Cost (USD) Line Item Insurance (USD)  \n",
       "count                                10324              10037.000000  \n",
       "unique                                6733                       NaN  \n",
       "top     Freight Included in Commodity Cost                       NaN  \n",
       "freq                                  1442                       NaN  \n",
       "mean                                   NaN                240.117626  \n",
       "std                                    NaN                500.190568  \n",
       "min                                    NaN                  0.000000  \n",
       "25%                                    NaN                  6.510000  \n",
       "50%                                    NaN                 47.040000  \n",
       "75%                                    NaN                252.400000  \n",
       "max                                    NaN               7708.440000  \n",
       "\n",
       "[11 rows x 33 columns]"
      ]
     },
     "execution_count": 7,
     "metadata": {},
     "output_type": "execute_result"
    }
   ],
   "source": [
    "df.describe(include='all')"
   ]
  },
  {
   "cell_type": "markdown",
   "id": "b13241e3",
   "metadata": {},
   "source": [
    "# Missing value handling"
   ]
  },
  {
   "cell_type": "code",
   "execution_count": 8,
   "id": "235e1761",
   "metadata": {},
   "outputs": [
    {
     "data": {
      "text/plain": [
       "ID                                 0\n",
       "Project Code                       0\n",
       "PQ #                               0\n",
       "PO / SO #                          0\n",
       "ASN/DN #                           0\n",
       "Country                            0\n",
       "Managed By                         0\n",
       "Fulfill Via                        0\n",
       "Vendor INCO Term                   0\n",
       "Shipment Mode                    360\n",
       "PQ First Sent to Client Date       0\n",
       "PO Sent to Vendor Date             0\n",
       "Scheduled Delivery Date            0\n",
       "Delivered to Client Date           0\n",
       "Delivery Recorded Date             0\n",
       "Product Group                      0\n",
       "Sub Classification                 0\n",
       "Vendor                             0\n",
       "Item Description                   0\n",
       "Molecule/Test Type                 0\n",
       "Brand                              0\n",
       "Dosage                          1736\n",
       "Dosage Form                        0\n",
       "Unit of Measure (Per Pack)         0\n",
       "Line Item Quantity                 0\n",
       "Line Item Value                    0\n",
       "Pack Price                         0\n",
       "Unit Price                         0\n",
       "Manufacturing Site                 0\n",
       "First Line Designation             0\n",
       "Weight (Kilograms)                 0\n",
       "Freight Cost (USD)                 0\n",
       "Line Item Insurance (USD)        287\n",
       "dtype: int64"
      ]
     },
     "execution_count": 8,
     "metadata": {},
     "output_type": "execute_result"
    }
   ],
   "source": [
    "df.isnull().sum()"
   ]
  },
  {
   "cell_type": "code",
   "execution_count": 9,
   "id": "ebbc778b",
   "metadata": {},
   "outputs": [],
   "source": [
    "#Drop ID column\n",
    "df=df.drop('ID',axis=1)"
   ]
  },
  {
   "cell_type": "code",
   "execution_count": 10,
   "id": "29b1f454",
   "metadata": {},
   "outputs": [],
   "source": [
    "#Drop missing target rows\n",
    "missing_target_rows=df[df['Shipment Mode'].isna()].index"
   ]
  },
  {
   "cell_type": "code",
   "execution_count": 11,
   "id": "e25c3cb8",
   "metadata": {},
   "outputs": [],
   "source": [
    "df=df.drop(missing_target_rows,axis=0).reset_index(drop=True)"
   ]
  },
  {
   "cell_type": "code",
   "execution_count": 12,
   "id": "c27401b1",
   "metadata": {},
   "outputs": [],
   "source": [
    "df['Dosage']=df['Dosage'].fillna(df['Dosage'].mode()[0])"
   ]
  },
  {
   "cell_type": "code",
   "execution_count": 13,
   "id": "9198f4a0",
   "metadata": {},
   "outputs": [],
   "source": [
    "df['Line Item Insurance (USD)'].fillna(df['Line Item Insurance (USD)'].median(), inplace = True)"
   ]
  },
  {
   "cell_type": "code",
   "execution_count": 14,
   "id": "40c5f7d6",
   "metadata": {},
   "outputs": [
    {
     "data": {
      "text/plain": [
       "Project Code                    0\n",
       "PQ #                            0\n",
       "PO / SO #                       0\n",
       "ASN/DN #                        0\n",
       "Country                         0\n",
       "Managed By                      0\n",
       "Fulfill Via                     0\n",
       "Vendor INCO Term                0\n",
       "Shipment Mode                   0\n",
       "PQ First Sent to Client Date    0\n",
       "PO Sent to Vendor Date          0\n",
       "Scheduled Delivery Date         0\n",
       "Delivered to Client Date        0\n",
       "Delivery Recorded Date          0\n",
       "Product Group                   0\n",
       "Sub Classification              0\n",
       "Vendor                          0\n",
       "Item Description                0\n",
       "Molecule/Test Type              0\n",
       "Brand                           0\n",
       "Dosage                          0\n",
       "Dosage Form                     0\n",
       "Unit of Measure (Per Pack)      0\n",
       "Line Item Quantity              0\n",
       "Line Item Value                 0\n",
       "Pack Price                      0\n",
       "Unit Price                      0\n",
       "Manufacturing Site              0\n",
       "First Line Designation          0\n",
       "Weight (Kilograms)              0\n",
       "Freight Cost (USD)              0\n",
       "Line Item Insurance (USD)       0\n",
       "dtype: int64"
      ]
     },
     "execution_count": 14,
     "metadata": {},
     "output_type": "execute_result"
    }
   ],
   "source": [
    "df.isna().sum()"
   ]
  },
  {
   "cell_type": "markdown",
   "id": "6672f00d",
   "metadata": {},
   "source": [
    "# Visualizations"
   ]
  },
  {
   "cell_type": "markdown",
   "id": "758054d1",
   "metadata": {},
   "source": [
    "## Explore the Categorical Features"
   ]
  },
  {
   "cell_type": "code",
   "execution_count": 15,
   "id": "8bc4aeb3",
   "metadata": {},
   "outputs": [
    {
     "data": {
      "text/plain": [
       "['Project Code',\n",
       " 'PQ #',\n",
       " 'PO / SO #',\n",
       " 'ASN/DN #',\n",
       " 'Country',\n",
       " 'Managed By',\n",
       " 'Fulfill Via',\n",
       " 'Vendor INCO Term',\n",
       " 'Shipment Mode',\n",
       " 'PQ First Sent to Client Date',\n",
       " 'PO Sent to Vendor Date',\n",
       " 'Scheduled Delivery Date',\n",
       " 'Delivered to Client Date',\n",
       " 'Delivery Recorded Date',\n",
       " 'Product Group',\n",
       " 'Sub Classification',\n",
       " 'Vendor',\n",
       " 'Item Description',\n",
       " 'Molecule/Test Type',\n",
       " 'Brand',\n",
       " 'Dosage',\n",
       " 'Dosage Form',\n",
       " 'Manufacturing Site',\n",
       " 'First Line Designation',\n",
       " 'Weight (Kilograms)',\n",
       " 'Freight Cost (USD)']"
      ]
     },
     "execution_count": 15,
     "metadata": {},
     "output_type": "execute_result"
    }
   ],
   "source": [
    "categorical_features=[feature for feature in df.columns if ((df[feature].dtypes=='O') & (feature not in ['deposit']))]\n",
    "categorical_features"
   ]
  },
  {
   "cell_type": "code",
   "execution_count": 16,
   "id": "49fd142e",
   "metadata": {},
   "outputs": [
    {
     "name": "stdout",
     "output_type": "stream",
     "text": [
      "The feature is Project Code and number of categories are 142\n",
      "The feature is PQ # and number of categories are 1237\n",
      "The feature is PO / SO # and number of categories are 6013\n",
      "The feature is ASN/DN # and number of categories are 6804\n",
      "The feature is Country and number of categories are 43\n",
      "The feature is Managed By and number of categories are 4\n",
      "The feature is Fulfill Via and number of categories are 2\n",
      "The feature is Vendor INCO Term and number of categories are 8\n",
      "The feature is Shipment Mode and number of categories are 4\n",
      "The feature is PQ First Sent to Client Date and number of categories are 765\n",
      "The feature is PO Sent to Vendor Date and number of categories are 893\n",
      "The feature is Scheduled Delivery Date and number of categories are 1952\n",
      "The feature is Delivered to Client Date and number of categories are 2040\n",
      "The feature is Delivery Recorded Date and number of categories are 1990\n",
      "The feature is Product Group and number of categories are 5\n",
      "The feature is Sub Classification and number of categories are 6\n",
      "The feature is Vendor and number of categories are 72\n",
      "The feature is Item Description and number of categories are 183\n",
      "The feature is Molecule/Test Type and number of categories are 85\n",
      "The feature is Brand and number of categories are 47\n",
      "The feature is Dosage and number of categories are 54\n",
      "The feature is Dosage Form and number of categories are 17\n",
      "The feature is Manufacturing Site and number of categories are 88\n",
      "The feature is First Line Designation and number of categories are 2\n",
      "The feature is Weight (Kilograms) and number of categories are 4563\n",
      "The feature is Freight Cost (USD) and number of categories are 6474\n"
     ]
    }
   ],
   "source": [
    "for feature in categorical_features:\n",
    "    print('The feature is {} and number of categories are {}'.format(feature,len(df[feature].unique())))"
   ]
  },
  {
   "cell_type": "markdown",
   "id": "e031b7b1",
   "metadata": {},
   "source": [
    "## Explore the Numerical Features"
   ]
  },
  {
   "cell_type": "code",
   "execution_count": 18,
   "id": "137ed79e",
   "metadata": {},
   "outputs": [
    {
     "name": "stdout",
     "output_type": "stream",
     "text": [
      "Number of numerical variables:  6\n"
     ]
    },
    {
     "data": {
      "text/html": [
       "<div>\n",
       "<style scoped>\n",
       "    .dataframe tbody tr th:only-of-type {\n",
       "        vertical-align: middle;\n",
       "    }\n",
       "\n",
       "    .dataframe tbody tr th {\n",
       "        vertical-align: top;\n",
       "    }\n",
       "\n",
       "    .dataframe thead th {\n",
       "        text-align: right;\n",
       "    }\n",
       "</style>\n",
       "<table border=\"1\" class=\"dataframe\">\n",
       "  <thead>\n",
       "    <tr style=\"text-align: right;\">\n",
       "      <th></th>\n",
       "      <th>Unit of Measure (Per Pack)</th>\n",
       "      <th>Line Item Quantity</th>\n",
       "      <th>Line Item Value</th>\n",
       "      <th>Pack Price</th>\n",
       "      <th>Unit Price</th>\n",
       "      <th>Line Item Insurance (USD)</th>\n",
       "    </tr>\n",
       "  </thead>\n",
       "  <tbody>\n",
       "    <tr>\n",
       "      <th>0</th>\n",
       "      <td>30</td>\n",
       "      <td>19</td>\n",
       "      <td>551.0</td>\n",
       "      <td>29.00</td>\n",
       "      <td>0.97</td>\n",
       "      <td>47.04</td>\n",
       "    </tr>\n",
       "    <tr>\n",
       "      <th>1</th>\n",
       "      <td>240</td>\n",
       "      <td>1000</td>\n",
       "      <td>6200.0</td>\n",
       "      <td>6.20</td>\n",
       "      <td>0.03</td>\n",
       "      <td>47.04</td>\n",
       "    </tr>\n",
       "    <tr>\n",
       "      <th>2</th>\n",
       "      <td>100</td>\n",
       "      <td>500</td>\n",
       "      <td>40000.0</td>\n",
       "      <td>80.00</td>\n",
       "      <td>0.80</td>\n",
       "      <td>47.04</td>\n",
       "    </tr>\n",
       "    <tr>\n",
       "      <th>3</th>\n",
       "      <td>60</td>\n",
       "      <td>31920</td>\n",
       "      <td>127360.8</td>\n",
       "      <td>3.99</td>\n",
       "      <td>0.07</td>\n",
       "      <td>47.04</td>\n",
       "    </tr>\n",
       "    <tr>\n",
       "      <th>4</th>\n",
       "      <td>60</td>\n",
       "      <td>38000</td>\n",
       "      <td>121600.0</td>\n",
       "      <td>3.20</td>\n",
       "      <td>0.05</td>\n",
       "      <td>47.04</td>\n",
       "    </tr>\n",
       "  </tbody>\n",
       "</table>\n",
       "</div>"
      ],
      "text/plain": [
       "   Unit of Measure (Per Pack)  Line Item Quantity  Line Item Value  \\\n",
       "0                          30                  19            551.0   \n",
       "1                         240                1000           6200.0   \n",
       "2                         100                 500          40000.0   \n",
       "3                          60               31920         127360.8   \n",
       "4                          60               38000         121600.0   \n",
       "\n",
       "   Pack Price  Unit Price  Line Item Insurance (USD)  \n",
       "0       29.00        0.97                      47.04  \n",
       "1        6.20        0.03                      47.04  \n",
       "2       80.00        0.80                      47.04  \n",
       "3        3.99        0.07                      47.04  \n",
       "4        3.20        0.05                      47.04  "
      ]
     },
     "execution_count": 18,
     "metadata": {},
     "output_type": "execute_result"
    }
   ],
   "source": [
    "# list of numerical variables\n",
    "numerical_features = [feature for feature in df.columns if ((df[feature].dtypes != 'O') & (feature not in ['deposit']))]\n",
    "print('Number of numerical variables: ', len(numerical_features))\n",
    "\n",
    "# visualise the numerical variables\n",
    "df[numerical_features].head()"
   ]
  },
  {
   "cell_type": "code",
   "execution_count": 19,
   "id": "a2506080",
   "metadata": {},
   "outputs": [
    {
     "name": "stdout",
     "output_type": "stream",
     "text": [
      "Discrete Variables Count: 0\n"
     ]
    }
   ],
   "source": [
    "discrete_feature=[feature for feature in numerical_features if len(df[feature].unique())<25]\n",
    "print(\"Discrete Variables Count: {}\".format(len(discrete_feature)))"
   ]
  },
  {
   "cell_type": "code",
   "execution_count": 20,
   "id": "bb0c801c",
   "metadata": {},
   "outputs": [
    {
     "name": "stdout",
     "output_type": "stream",
     "text": [
      "Continuous feature Count 6\n"
     ]
    }
   ],
   "source": [
    "continuous_features=[feature for feature in numerical_features if feature not in discrete_feature+['deposit']]\n",
    "print(\"Continuous feature Count {}\".format(len(continuous_features)))"
   ]
  },
  {
   "cell_type": "markdown",
   "id": "ab20116a",
   "metadata": {},
   "source": [
    "## Distribution of Continous Numerical Features"
   ]
  },
  {
   "cell_type": "code",
   "execution_count": 21,
   "id": "f5c98428",
   "metadata": {},
   "outputs": [
    {
     "data": {
      "image/png": "[encoded data removed]",
      "text/plain": [
       "<Figure size 1440x4320 with 6 Axes>"
      ]
     },
     "metadata": {},
     "output_type": "display_data"
    }
   ],
   "source": [
    "#plot a univariate distribution of continues observations\n",
    "plt.figure(figsize=(20,60), facecolor='white')\n",
    "plotnumber =1\n",
    "for continuous_feature in continuous_features:\n",
    "    ax = plt.subplot(12,3,plotnumber)\n",
    "    sns.distplot(df[continuous_feature])\n",
    "    plt.xlabel(continuous_feature)\n",
    "    plotnumber+=1\n",
    "plt.show()"
   ]
  },
  {
   "cell_type": "markdown",
   "id": "c450a60a",
   "metadata": {},
   "source": [
    "## Outliers in numerical features"
   ]
  },
  {
   "cell_type": "code",
   "execution_count": 23,
   "id": "ab098a67",
   "metadata": {},
   "outputs": [
    {
     "data": {
      "image/png": "[encoded data removed]",
      "text/plain": [
       "<Figure size 1440x4320 with 6 Axes>"
      ]
     },
     "metadata": {},
     "output_type": "display_data"
    }
   ],
   "source": [
    "#boxplot on numerical features to find outliers\n",
    "plt.figure(figsize=(20,60), facecolor='white')\n",
    "plotnumber =1\n",
    "for numerical_feature in numerical_features:\n",
    "    ax = plt.subplot(12,3,plotnumber)\n",
    "    sns.boxplot(df[numerical_feature])\n",
    "    plt.xlabel(numerical_feature)\n",
    "    plotnumber+=1\n",
    "plt.show()"
   ]
  },
  {
   "cell_type": "markdown",
   "id": "1fff1214",
   "metadata": {},
   "source": [
    "## Correlation between numerical features"
   ]
  },
  {
   "cell_type": "code",
   "execution_count": 24,
   "id": "6cae404d",
   "metadata": {},
   "outputs": [
    {
     "data": {
      "text/plain": [
       "<AxesSubplot:>"
      ]
     },
     "execution_count": 24,
     "metadata": {},
     "output_type": "execute_result"
    },
    {
     "data": {
      "image/png": "[encoded data removed]",
      "text/plain": [
       "<Figure size 1080x504 with 2 Axes>"
      ]
     },
     "metadata": {
      "needs_background": "light"
     },
     "output_type": "display_data"
    }
   ],
   "source": [
    "## Checking for correlation\n",
    "cor_mat=df.corr()\n",
    "fig = plt.figure(figsize=(15,7))\n",
    "sns.heatmap(cor_mat,annot=True)"
   ]
  },
  {
   "cell_type": "markdown",
   "id": "7cbe716e",
   "metadata": {},
   "source": [
    "## Shipment Mode and Pack Price"
   ]
  },
  {
   "cell_type": "code",
   "execution_count": 25,
   "id": "7988a1d8",
   "metadata": {},
   "outputs": [
    {
     "data": {
      "image/png": "[encoded data removed]",
      "text/plain": [
       "<Figure size 1440x432 with 1 Axes>"
      ]
     },
     "metadata": {
      "needs_background": "light"
     },
     "output_type": "display_data"
    }
   ],
   "source": [
    "import warnings\n",
    "warnings.filterwarnings('ignore')\n",
    "plt.subplots(figsize = (20,6))\n",
    "plt.xticks(rotation = 90)\n",
    "sns.barplot('Shipment Mode','Pack Price', data=df)\n",
    "plt.show()"
   ]
  },
  {
   "cell_type": "markdown",
   "id": "ae5c7371",
   "metadata": {},
   "source": [
    "Shipment Mode and Pack Price in Bar Plot Graph Top Shipping Mode : Air"
   ]
  },
  {
   "cell_type": "markdown",
   "id": "f95d320b",
   "metadata": {},
   "source": [
    "## First Line Designation Wise Count"
   ]
  },
  {
   "cell_type": "code",
   "execution_count": 26,
   "id": "ac715dc8",
   "metadata": {},
   "outputs": [
    {
     "data": {
      "text/plain": [
       "Text(0.5, 0, 'First Line Designation')"
      ]
     },
     "execution_count": 26,
     "metadata": {},
     "output_type": "execute_result"
    },
    {
     "data": {
      "image/png": "[encoded data removed]",
      "text/plain": [
       "<Figure size 360x432 with 1 Axes>"
      ]
     },
     "metadata": {
      "needs_background": "light"
     },
     "output_type": "display_data"
    }
   ],
   "source": [
    "plt.figure(figsize=(5,6))\n",
    "sns.countplot(df['First Line Designation'],order = df['First Line Designation'].value_counts().nlargest(10).index)\n",
    "plt.title('First Line Designation Wise Count \\n')\n",
    "plt.ylabel('Total Count')\n",
    "plt.xlabel('First Line Designation')"
   ]
  },
  {
   "cell_type": "markdown",
   "id": "b0989e11",
   "metadata": {},
   "source": [
    "## Total 10 Country wise count"
   ]
  },
  {
   "cell_type": "code",
   "execution_count": 27,
   "id": "8895a76d",
   "metadata": {},
   "outputs": [
    {
     "name": "stdout",
     "output_type": "stream",
     "text": [
      "Top 10 Countries Wise Count \n",
      "\n",
      "South Africa     1364\n",
      "Nigeria          1158\n",
      "Côte d'Ivoire     970\n",
      "Uganda            771\n",
      "Vietnam           688\n",
      "Haiti             653\n",
      "Mozambique        631\n",
      "Zambia            584\n",
      "Zimbabwe          526\n",
      "Tanzania          499\n",
      "Name: Country, dtype: int64\n"
     ]
    },
    {
     "data": {
      "text/plain": [
       "Text(0.5, 0, 'Country Name')"
      ]
     },
     "execution_count": 27,
     "metadata": {},
     "output_type": "execute_result"
    },
    {
     "data": {
      "image/png": "[encoded data removed]",
      "text/plain": [
       "<Figure size 1584x432 with 1 Axes>"
      ]
     },
     "metadata": {
      "needs_background": "light"
     },
     "output_type": "display_data"
    }
   ],
   "source": [
    "ItemCount = df[\"Country\"].value_counts().nlargest(10)\n",
    "print(\"Top 10 Countries Wise Count \\n\")\n",
    "print(ItemCount)\n",
    "plt.figure(figsize=(22,6))\n",
    "sns.countplot(df['Country'],order = df['Country'].value_counts().nlargest(10).index)\n",
    "plt.title('Top 10 Countries Wise Count \\n')\n",
    "plt.ylabel('Total Count')\n",
    "plt.xlabel('Country Name')"
   ]
  },
  {
   "cell_type": "markdown",
   "id": "bf61bfeb",
   "metadata": {},
   "source": [
    "## Total Pack Price for Top 15 Countries"
   ]
  },
  {
   "cell_type": "code",
   "execution_count": 28,
   "id": "040c71fb",
   "metadata": {},
   "outputs": [
    {
     "name": "stdout",
     "output_type": "stream",
     "text": [
      "Total Pack Price for Top 15 Countries\n",
      "\n",
      "Country\n",
      "Nigeria          25001.47\n",
      "South Africa     23479.74\n",
      "Côte d'Ivoire    19227.42\n",
      "Haiti            19049.30\n",
      "Uganda           15585.61\n",
      "Mozambique       14092.40\n",
      "Vietnam          11963.78\n",
      "Tanzania         10461.95\n",
      "Zambia            9931.29\n",
      "Rwanda            7724.29\n",
      "Botswana          6540.54\n",
      "Zimbabwe          6401.27\n",
      "Kenya             6349.14\n",
      "Congo, DRC        6032.41\n",
      "Guyana            5442.85\n",
      "Name: Pack Price, dtype: float64\n"
     ]
    },
    {
     "data": {
      "text/plain": [
       "Text(0.5, 0, 'Country Name')"
      ]
     },
     "execution_count": 28,
     "metadata": {},
     "output_type": "execute_result"
    },
    {
     "data": {
      "image/png": "[encoded data removed]",
      "text/plain": [
       "<Figure size 1584x432 with 1 Axes>"
      ]
     },
     "metadata": {
      "needs_background": "light"
     },
     "output_type": "display_data"
    }
   ],
   "source": [
    "TotalPrice = df.groupby(['Country'])['Pack Price'].sum().nlargest(15)\n",
    "print(\"Total Pack Price for Top 15 Countries\\n\")\n",
    "print(TotalPrice)\n",
    "plt.figure(figsize=(22,6))\n",
    "GraphData=df.groupby(['Country'])['Pack Price'].sum().nlargest(15)\n",
    "GraphData.plot(kind='bar')\n",
    "plt.ylabel('Total Pack Price')\n",
    "plt.xlabel('Country Name')"
   ]
  },
  {
   "cell_type": "markdown",
   "id": "218ff9fd",
   "metadata": {},
   "source": [
    "Top Country for Pack Price : Nigeria - 25001.47"
   ]
  },
  {
   "cell_type": "markdown",
   "id": "0d0d74af",
   "metadata": {},
   "source": [
    "## Top 10 Manufacturing Site for all Shipment Mode"
   ]
  },
  {
   "cell_type": "code",
   "execution_count": 29,
   "id": "e82d1a97",
   "metadata": {},
   "outputs": [
    {
     "name": "stdout",
     "output_type": "stream",
     "text": [
      "Manufacturing Site\n",
      "Aurobindo Unit III, India         3031\n",
      "Mylan (formerly Matrix) Nashik    1407\n",
      "Hetero Unit III Hyderabad IN       868\n",
      "Cipla, Goa, India                  634\n",
      "Strides, Bangalore, India.         533\n",
      "Alere Medical Co., Ltd.            481\n",
      "Trinity Biotech, Plc               395\n",
      "ABBVIE Ludwigshafen Germany        354\n",
      "Inverness Japan                    337\n",
      "ABBVIE (Abbott) Logis. UK          207\n",
      "dtype: int64\n"
     ]
    },
    {
     "data": {
      "text/plain": [
       "Text(0.5, 0, 'Manufacturing Site Name')"
      ]
     },
     "execution_count": 29,
     "metadata": {},
     "output_type": "execute_result"
    },
    {
     "data": {
      "image/png": "[encoded data removed]",
      "text/plain": [
       "<Figure size 1584x432 with 1 Axes>"
      ]
     },
     "metadata": {
      "needs_background": "light"
     },
     "output_type": "display_data"
    }
   ],
   "source": [
    "plt.figure(figsize=(22,6))\n",
    "TopFiveManufacturingSite=df.groupby('Manufacturing Site').size().nlargest(10)\n",
    "print(TopFiveManufacturingSite)\n",
    "TopFiveManufacturingSite.plot(kind='bar')\n",
    "plt.title('Top 10 Manufacturing Site \\n')\n",
    "plt.ylabel('Total Count')\n",
    "plt.xlabel('Manufacturing Site Name')"
   ]
  },
  {
   "cell_type": "markdown",
   "id": "e006e405",
   "metadata": {},
   "source": [
    "Top Manufacturing Site : Aurobindo Unit III, India - 3031"
   ]
  },
  {
   "cell_type": "markdown",
   "id": "60ebebc6",
   "metadata": {},
   "source": [
    "## Outlier Detection and Handling"
   ]
  },
  {
   "cell_type": "code",
   "execution_count": 30,
   "id": "6f1f8098",
   "metadata": {},
   "outputs": [
    {
     "data": {
      "text/plain": [
       "Project Code                     142\n",
       "PQ #                            1237\n",
       "PO / SO #                       6013\n",
       "ASN/DN #                        6804\n",
       "Country                           43\n",
       "Managed By                         4\n",
       "Fulfill Via                        2\n",
       "Vendor INCO Term                   8\n",
       "Shipment Mode                      4\n",
       "PQ First Sent to Client Date     765\n",
       "PO Sent to Vendor Date           893\n",
       "Scheduled Delivery Date         1952\n",
       "Delivered to Client Date        2040\n",
       "Delivery Recorded Date          1990\n",
       "Product Group                      5\n",
       "Sub Classification                 6\n",
       "Vendor                            72\n",
       "Item Description                 183\n",
       "Molecule/Test Type                85\n",
       "Brand                             47\n",
       "Dosage                            54\n",
       "Dosage Form                       17\n",
       "Unit of Measure (Per Pack)        31\n",
       "Line Item Quantity              4938\n",
       "Line Item Value                 8463\n",
       "Pack Price                      1130\n",
       "Unit Price                       179\n",
       "Manufacturing Site                88\n",
       "First Line Designation             2\n",
       "Weight (Kilograms)              4563\n",
       "Freight Cost (USD)              6474\n",
       "Line Item Insurance (USD)       6588\n",
       "dtype: int64"
      ]
     },
     "execution_count": 30,
     "metadata": {},
     "output_type": "execute_result"
    }
   ],
   "source": [
    "df.nunique()"
   ]
  },
  {
   "cell_type": "code",
   "execution_count": null,
   "id": "bb3ed779",
   "metadata": {},
   "outputs": [],
   "source": []
  },
  {
   "cell_type": "code",
   "execution_count": null,
   "id": "a3662c04",
   "metadata": {},
   "outputs": [],
   "source": []
  }
 ],
 "metadata": {
  "kernelspec": {
   "display_name": "Python 3",
   "language": "python",
   "name": "python3"
  },
  "language_info": {
   "codemirror_mode": {
    "name": "ipython",
    "version": 3
   },
   "file_extension": ".py",
   "mimetype": "text/x-python",
   "name": "python",
   "nbconvert_exporter": "python",
   "pygments_lexer": "ipython3",
   "version": "3.8.8"
  }
 },
 "nbformat": 4,
 "nbformat_minor": 5
}
